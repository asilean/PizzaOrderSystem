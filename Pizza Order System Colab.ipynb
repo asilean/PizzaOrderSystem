{
  "nbformat": 4,
  "nbformat_minor": 0,
  "metadata": {
    "colab": {
      "provenance": []
    },
    "kernelspec": {
      "name": "python3",
      "display_name": "Python 3"
    },
    "language_info": {
      "name": "python"
    }
  },
  "cells": [
    {
      "cell_type": "code",
      "execution_count": 1,
      "metadata": {
        "id": "pWURMfXzwBcR"
      },
      "outputs": [],
      "source": [
        "import tkinter as tk\n",
        "import csv\n",
        "import datetime\n",
        "global_cost=0"
      ]
    },
    {
      "cell_type": "code",
      "source": [
        "class pizza:\n",
        "  def __innit__(self,name,cost):\n",
        "    self.name=name\n",
        "    self.cost=cost\n",
        "  @property\n",
        "  def get_cost(self):\n",
        "    return self.cost\n",
        "  @property\n",
        "  def get_name(self):\n",
        "    return self.name\n",
        "  "
      ],
      "metadata": {
        "id": "BkZhctL_wg7n"
      },
      "execution_count": 2,
      "outputs": []
    },
    {
      "cell_type": "code",
      "source": [
        "class Klasik(pizza):\n",
        "  name=\"Klasik\"\n",
        "  cost=70\n",
        "  @staticmethod\n",
        "  def get_description():\n",
        "    return f\"This recipe contains an exceptional pizza dough, low-moisture mozzarella cheese,tomato sauce and simple garnish of fresh herbs.\"\n",
        "class Margherita(pizza):\n",
        "  name=\"Margherita\"\n",
        "  cost=65\n",
        "  @staticmethod\n",
        "  def get_description():\n",
        "    return f\"Margherita pizza features a bubbly crust, crushed San Marzano tomato sauce, fresh mozzarella and basil, a drizzle of olive oil, and a sprinkle of salt.\"\n",
        "class TurkPizza(pizza):\n",
        "  name=\"TürkPizza\"\n",
        "  cost=90\n",
        "  @staticmethod\n",
        "  def get_description():\n",
        "    return f\"This is a sausage pizza, with onions, green peppers, and bacon.\"\n",
        "class SadePizza(pizza):\n",
        "  name=\"SadePizza\"\n",
        "  cost=60\n",
        "  @staticmethod\n",
        "  def get_description():\n",
        "    return f\"The delicious combination of crispy pizza crust, flavorful tomato sauce, and bubbly cheese.\""
      ],
      "metadata": {
        "id": "aZrmy331wOPZ"
      },
      "execution_count": 3,
      "outputs": []
    },
    {
      "cell_type": "code",
      "source": [
        "class Decorator(pizza):\n",
        "  pass\n",
        "class zeytin(Decorator):\n",
        "  name=\"zeytin\"\n",
        "  cost=5\n",
        "class mantarlar(Decorator):\n",
        "  name=\"mantarlar\"\n",
        "  cost=15\n",
        "class keci_peyniri(Decorator):\n",
        "  name=\"Keçi Peyniri\"\n",
        "  cost=10\n",
        "class Et(Decorator):\n",
        "  name=\"Et\"\n",
        "  cost=25\n",
        "class sogan(Decorator):\n",
        "  name=\"Soğan\"\n",
        "  cost=5\n",
        "class Misir(Decorator):\n",
        "  name=\"Mısır\"\n",
        "  cost=5\n",
        "class No_Topping(Decorator):\n",
        "  name=\"No Topping\"\n",
        "  cost=0\n",
        "\n",
        "  "
      ],
      "metadata": {
        "id": "dLR2rJHV5Rva"
      },
      "execution_count": 4,
      "outputs": []
    },
    {
      "cell_type": "code",
      "source": [
        "import csv\n",
        "\n",
        "global_cost = 0\n",
        "\n",
        "class Main:\n",
        "    writer = open('orders_database.csv', 'w', newline='')\n",
        "    writer.write('Bill\\n')\n",
        "    pizza_data = ''\n",
        "    topping_data = ''\n",
        "    while True:\n",
        "        pizza_data = input(\n",
        "            \"Please choose a pizza base:\\n 1-Classic\\n 2-Margherita\\n 3-TurkPizza\\n 4-PlainPizza,\\n or enter 'q' to quit: \")\n",
        "        if pizza_data == 'q':\n",
        "            break\n",
        "        else:\n",
        "            options = {\n",
        "                '1': {'type':Klasik()},\n",
        "                '2': {'type':Margherita()},\n",
        "                '3': {'type':TurkPizza() },\n",
        "                '4': {'type': SadePizza()}\n",
        "            }\n",
        "        choice = options.get(pizza_data)\n",
        "        topping_data = input(\n",
        "          \"Please choose a topping for it:\\n 1-zeytin\\n 2-mantarlar\\n 3-keci peyniri\\n 4-Et\\n 5-sogan\\n 6-Misir\\n 7-None: \")\n",
        "        topping_options = {\n",
        "                '1': {'type':zeytin()},\n",
        "                '2': {'type':mantarlar()},\n",
        "                '3': {'type':keci_peyniri()},\n",
        "                '4': {'type':Et()},\n",
        "                '5': {'type':sogan()},\n",
        "                '6': {'type':Misir()},\n",
        "                '7': {'type':No_Topping()}\n",
        "            }\n",
        "        topping_choice=topping_options.get(topping_data)\n",
        "        if choice and topping_choice:\n",
        "            global_cost += choice['type'].get_cost + topping_choice['type'].get_cost\n",
        "            writer.write(choice['type'].get_name + ' ' + str(choice['type'].get_cost) + ' ₺'+ '  +' +topping_choice['type'].get_name+' '+str(topping_choice['type'].get_cost)+'₺\\n')\n",
        "        else:\n",
        "            print(\"Invalid input\")\n",
        "    writer.write('Total cost '+str(global_cost)+'₺')\n",
        "    writer.close()\n",
        "    print(\"Total cost: \" + str(global_cost) + \"₺\")"
      ],
      "metadata": {
        "id": "iSoy_Sa0BTEW",
        "colab": {
          "base_uri": "https://localhost:8080/"
        },
        "outputId": "b96fd679-fbb0-458d-f4db-981fe5a0d555"
      },
      "execution_count": 5,
      "outputs": [
        {
          "output_type": "stream",
          "name": "stdout",
          "text": [
            "Please choose a pizza base:\n",
            " 1-Classic\n",
            " 2-Margherita\n",
            " 3-TurkPizza\n",
            " 4-PlainPizza,\n",
            " or enter 'q' to quit: 1\n",
            "Please choose a topping for it:\n",
            " 1-zeytin\n",
            " 2-mantarlar\n",
            " 3-keci peyniri\n",
            " 4-Et\n",
            " 5-sogan\n",
            " 6-Misir\n",
            " 7-None: 2\n",
            "Please choose a pizza base:\n",
            " 1-Classic\n",
            " 2-Margherita\n",
            " 3-TurkPizza\n",
            " 4-PlainPizza,\n",
            " or enter 'q' to quit: q\n",
            "Total cost: 85₺\n"
          ]
        }
      ]
    },
    {
      "cell_type": "code",
      "source": [
        "\n"
      ],
      "metadata": {
        "id": "Izr7IzQUfLxC"
      },
      "execution_count": 5,
      "outputs": []
    }
  ]
}